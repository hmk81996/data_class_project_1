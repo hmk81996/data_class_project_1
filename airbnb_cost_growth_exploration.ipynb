{
 "cells": [
  {
   "cell_type": "code",
   "execution_count": 12,
   "id": "310f100c-065e-43f1-ba32-bb3914ebf9e2",
   "metadata": {},
   "outputs": [],
   "source": [
    "# import modules\n",
    "import os\n",
    "import csv\n",
    "import pandas as pd\n",
    "import numpy as np\n",
    "\n",
    "# import modules for visualization\n",
    "import hvplot.pandas\n",
    "import holoviews as hv\n",
    "from holoviews import opts"
   ]
  },
  {
   "cell_type": "code",
   "execution_count": 13,
   "id": "ebbad0f5-1b5f-41b0-bbbc-b2069a8957b3",
   "metadata": {},
   "outputs": [
    {
     "data": {
      "text/html": [
       "<div>\n",
       "<style scoped>\n",
       "    .dataframe tbody tr th:only-of-type {\n",
       "        vertical-align: middle;\n",
       "    }\n",
       "\n",
       "    .dataframe tbody tr th {\n",
       "        vertical-align: top;\n",
       "    }\n",
       "\n",
       "    .dataframe thead th {\n",
       "        text-align: right;\n",
       "    }\n",
       "</style>\n",
       "<table border=\"1\" class=\"dataframe\">\n",
       "  <thead>\n",
       "    <tr style=\"text-align: right;\">\n",
       "      <th></th>\n",
       "      <th>id</th>\n",
       "      <th>name</th>\n",
       "      <th>host_id</th>\n",
       "      <th>host_name</th>\n",
       "      <th>host_since</th>\n",
       "      <th>host_is_superhost</th>\n",
       "      <th>host_identity_verified</th>\n",
       "      <th>instant_bookable</th>\n",
       "      <th>accommodates</th>\n",
       "      <th>amenities</th>\n",
       "      <th>...</th>\n",
       "      <th>bedrooms</th>\n",
       "      <th>beds</th>\n",
       "      <th>price</th>\n",
       "      <th>minimum_nights</th>\n",
       "      <th>maximum_nights</th>\n",
       "      <th>number_of_reviews</th>\n",
       "      <th>last_review</th>\n",
       "      <th>reviews_per_month</th>\n",
       "      <th>calculated_host_listings_count</th>\n",
       "      <th>availability_365</th>\n",
       "    </tr>\n",
       "  </thead>\n",
       "  <tbody>\n",
       "    <tr>\n",
       "      <th>0</th>\n",
       "      <td>109</td>\n",
       "      <td>Amazing bright elegant condo park front *UPGRA...</td>\n",
       "      <td>521</td>\n",
       "      <td>Paolo</td>\n",
       "      <td>27-06-2008</td>\n",
       "      <td>f</td>\n",
       "      <td>t</td>\n",
       "      <td>f</td>\n",
       "      <td>6</td>\n",
       "      <td>[\"Elevator\", \"Cable TV\", \"Air conditioning\", \"...</td>\n",
       "      <td>...</td>\n",
       "      <td>2.0</td>\n",
       "      <td>3.0</td>\n",
       "      <td>115</td>\n",
       "      <td>30</td>\n",
       "      <td>730</td>\n",
       "      <td>2</td>\n",
       "      <td>15-05-2016</td>\n",
       "      <td>0.02</td>\n",
       "      <td>1</td>\n",
       "      <td>216</td>\n",
       "    </tr>\n",
       "    <tr>\n",
       "      <th>1</th>\n",
       "      <td>2708</td>\n",
       "      <td>Beautiful Furnish Mirrored Mini-Suite w/ Firep...</td>\n",
       "      <td>3008</td>\n",
       "      <td>Chas.</td>\n",
       "      <td>16-09-2008</td>\n",
       "      <td>t</td>\n",
       "      <td>t</td>\n",
       "      <td>t</td>\n",
       "      <td>1</td>\n",
       "      <td>[\"Host greets you\", \"Elevator\", \"Air condition...</td>\n",
       "      <td>...</td>\n",
       "      <td>1.0</td>\n",
       "      <td>1.0</td>\n",
       "      <td>71</td>\n",
       "      <td>30</td>\n",
       "      <td>366</td>\n",
       "      <td>27</td>\n",
       "      <td>6/10/2020</td>\n",
       "      <td>0.35</td>\n",
       "      <td>2</td>\n",
       "      <td>360</td>\n",
       "    </tr>\n",
       "    <tr>\n",
       "      <th>2</th>\n",
       "      <td>2732</td>\n",
       "      <td>Zen Life at the Beach</td>\n",
       "      <td>3041</td>\n",
       "      <td>Yoga Priestess</td>\n",
       "      <td>17-09-2008</td>\n",
       "      <td>f</td>\n",
       "      <td>t</td>\n",
       "      <td>f</td>\n",
       "      <td>1</td>\n",
       "      <td>[\"Cooking basics\", \"Host greets you\", \"Smoke a...</td>\n",
       "      <td>...</td>\n",
       "      <td>1.0</td>\n",
       "      <td>1.0</td>\n",
       "      <td>155</td>\n",
       "      <td>1</td>\n",
       "      <td>180</td>\n",
       "      <td>21</td>\n",
       "      <td>27-12-2019</td>\n",
       "      <td>0.18</td>\n",
       "      <td>2</td>\n",
       "      <td>337</td>\n",
       "    </tr>\n",
       "    <tr>\n",
       "      <th>3</th>\n",
       "      <td>2864</td>\n",
       "      <td>* Beautiful Master Suite/Jacuzzi Tub/*</td>\n",
       "      <td>3207</td>\n",
       "      <td>Bernadine</td>\n",
       "      <td>25-09-2008</td>\n",
       "      <td>f</td>\n",
       "      <td>t</td>\n",
       "      <td>t</td>\n",
       "      <td>2</td>\n",
       "      <td>[\"Host greets you\", \"Air conditioning\", \"Carbo...</td>\n",
       "      <td>...</td>\n",
       "      <td>1.0</td>\n",
       "      <td>1.0</td>\n",
       "      <td>50</td>\n",
       "      <td>30</td>\n",
       "      <td>730</td>\n",
       "      <td>0</td>\n",
       "      <td>NaN</td>\n",
       "      <td>NaN</td>\n",
       "      <td>1</td>\n",
       "      <td>0</td>\n",
       "    </tr>\n",
       "    <tr>\n",
       "      <th>4</th>\n",
       "      <td>5728</td>\n",
       "      <td>Tiny Home in Artistic Oasis near Venice and LAX</td>\n",
       "      <td>9171</td>\n",
       "      <td>Sanni</td>\n",
       "      <td>5/3/2009</td>\n",
       "      <td>t</td>\n",
       "      <td>t</td>\n",
       "      <td>f</td>\n",
       "      <td>2</td>\n",
       "      <td>[\"Lock on bedroom door\", \"Fire extinguisher\", ...</td>\n",
       "      <td>...</td>\n",
       "      <td>1.0</td>\n",
       "      <td>1.0</td>\n",
       "      <td>60</td>\n",
       "      <td>30</td>\n",
       "      <td>1125</td>\n",
       "      <td>310</td>\n",
       "      <td>29-04-2020</td>\n",
       "      <td>2.25</td>\n",
       "      <td>5</td>\n",
       "      <td>337</td>\n",
       "    </tr>\n",
       "  </tbody>\n",
       "</table>\n",
       "<p>5 rows × 28 columns</p>\n",
       "</div>"
      ],
      "text/plain": [
       "     id                                               name  host_id  \\\n",
       "0   109  Amazing bright elegant condo park front *UPGRA...      521   \n",
       "1  2708  Beautiful Furnish Mirrored Mini-Suite w/ Firep...     3008   \n",
       "2  2732                              Zen Life at the Beach     3041   \n",
       "3  2864             * Beautiful Master Suite/Jacuzzi Tub/*     3207   \n",
       "4  5728    Tiny Home in Artistic Oasis near Venice and LAX     9171   \n",
       "\n",
       "        host_name  host_since host_is_superhost host_identity_verified  \\\n",
       "0           Paolo  27-06-2008                 f                      t   \n",
       "1           Chas.  16-09-2008                 t                      t   \n",
       "2  Yoga Priestess  17-09-2008                 f                      t   \n",
       "3       Bernadine  25-09-2008                 f                      t   \n",
       "4           Sanni    5/3/2009                 t                      t   \n",
       "\n",
       "  instant_bookable  accommodates  \\\n",
       "0                f             6   \n",
       "1                t             1   \n",
       "2                f             1   \n",
       "3                t             2   \n",
       "4                f             2   \n",
       "\n",
       "                                           amenities  ... bedrooms beds price  \\\n",
       "0  [\"Elevator\", \"Cable TV\", \"Air conditioning\", \"...  ...      2.0  3.0   115   \n",
       "1  [\"Host greets you\", \"Elevator\", \"Air condition...  ...      1.0  1.0    71   \n",
       "2  [\"Cooking basics\", \"Host greets you\", \"Smoke a...  ...      1.0  1.0   155   \n",
       "3  [\"Host greets you\", \"Air conditioning\", \"Carbo...  ...      1.0  1.0    50   \n",
       "4  [\"Lock on bedroom door\", \"Fire extinguisher\", ...  ...      1.0  1.0    60   \n",
       "\n",
       "   minimum_nights  maximum_nights number_of_reviews last_review  \\\n",
       "0              30             730                 2  15-05-2016   \n",
       "1              30             366                27   6/10/2020   \n",
       "2               1             180                21  27-12-2019   \n",
       "3              30             730                 0         NaN   \n",
       "4              30            1125               310  29-04-2020   \n",
       "\n",
       "   reviews_per_month  calculated_host_listings_count  availability_365  \n",
       "0               0.02                               1               216  \n",
       "1               0.35                               2               360  \n",
       "2               0.18                               2               337  \n",
       "3                NaN                               1                 0  \n",
       "4               2.25                               5               337  \n",
       "\n",
       "[5 rows x 28 columns]"
      ]
     },
     "execution_count": 13,
     "metadata": {},
     "output_type": "execute_result"
    }
   ],
   "source": [
    "# create an Airbnb dataframe\n",
    "airbnb_df = pd.read_csv('Resources/air bnb csv with edits.csv')\n",
    "airbnb_df.head()"
   ]
  },
  {
   "cell_type": "code",
   "execution_count": 14,
   "id": "bddd84ee-51f0-47e4-8a2a-bdacc3a6340c",
   "metadata": {},
   "outputs": [
    {
     "data": {
      "text/plain": [
       "Index(['id', 'name', 'host_id', 'host_name', 'host_since', 'host_is_superhost',\n",
       "       'host_identity_verified', 'instant_bookable', 'accommodates',\n",
       "       'amenities', 'State', 'neighbourhood_group', 'neighbourhood',\n",
       "       'latitude', 'longitude', 'property_type', 'room_type', 'bathrooms',\n",
       "       'bedrooms', 'beds', 'price', 'minimum_nights', 'maximum_nights',\n",
       "       'number_of_reviews', 'last_review', 'reviews_per_month',\n",
       "       'calculated_host_listings_count', 'availability_365'],\n",
       "      dtype='object')"
      ]
     },
     "execution_count": 14,
     "metadata": {},
     "output_type": "execute_result"
    }
   ],
   "source": [
    "airbnb_df.columns"
   ]
  },
  {
   "cell_type": "code",
   "execution_count": 15,
   "id": "395c7954-28b9-479f-92cc-ef22fdde1a69",
   "metadata": {},
   "outputs": [
    {
     "data": {
      "text/plain": [
       "86089"
      ]
     },
     "execution_count": 15,
     "metadata": {},
     "output_type": "execute_result"
    }
   ],
   "source": [
    "# how many hosts are represented in the data\n",
    "airbnb_df['host_id'].nunique()"
   ]
  },
  {
   "cell_type": "code",
   "execution_count": 16,
   "id": "bdc57443-2d1c-4e55-8bd2-346d9fb60caf",
   "metadata": {},
   "outputs": [
    {
     "data": {
      "text/plain": [
       "array(['Los Angeles', 'San Diego County', 'San Francisco', 'San Mateo',\n",
       "       'Saint Clara County', ' Santa Cruz', 'Chicago', 'Broward County',\n",
       "       'Hawaii', 'Kauai', 'Maui', 'Honolulu', 'Clark County', 'Manhattan',\n",
       "       'Brooklyn', 'Queens', 'Staten Island', 'Bronx', 'Nashville',\n",
       "       'Washington D.C', 'Seattle'], dtype=object)"
      ]
     },
     "execution_count": 16,
     "metadata": {},
     "output_type": "execute_result"
    }
   ],
   "source": [
    "# cities that are represented in the data\n",
    "cities = airbnb_df[\"neighbourhood_group\"].unique()\n",
    "cities"
   ]
  },
  {
   "cell_type": "code",
   "execution_count": 17,
   "id": "6b0b8163-32c6-4c0d-8da5-aad3aad45040",
   "metadata": {},
   "outputs": [
    {
     "data": {
      "text/plain": [
       "21"
      ]
     },
     "execution_count": 17,
     "metadata": {},
     "output_type": "execute_result"
    }
   ],
   "source": [
    "cities_count = airbnb_df[\"neighbourhood_group\"].nunique()\n",
    "cities_count"
   ]
  },
  {
   "cell_type": "code",
   "execution_count": 18,
   "id": "73400b6b-8ea8-4fb3-a278-66142dc647fe",
   "metadata": {},
   "outputs": [
    {
     "data": {
      "text/plain": [
       "count    158249.000000\n",
       "mean        204.370720\n",
       "std         500.228507\n",
       "min           0.000000\n",
       "25%          75.000000\n",
       "50%         120.000000\n",
       "75%         200.000000\n",
       "max       25000.000000\n",
       "Name: price, dtype: float64"
      ]
     },
     "execution_count": 18,
     "metadata": {},
     "output_type": "execute_result"
    }
   ],
   "source": [
    "# summary statistics for Airbnb prices\n",
    "airbnb_df[\"price\"].describe()"
   ]
  },
  {
   "cell_type": "code",
   "execution_count": 19,
   "id": "9da736b9-9a72-49ea-b7d3-8834640ddbd0",
   "metadata": {},
   "outputs": [
    {
     "name": "stdout",
     "output_type": "stream",
     "text": [
      "neighbourhood_group\n",
      "Bronx                  65.0\n",
      "Queens                 70.0\n",
      "Staten Island          76.5\n",
      "Brooklyn               90.0\n",
      "Chicago                97.0\n",
      "Saint Clara County     99.0\n",
      "Washington D.C        105.0\n",
      "Seattle               106.0\n",
      "Los Angeles           110.0\n",
      "San Mateo             120.0\n",
      "Broward County        121.0\n",
      "Manhattan             124.0\n",
      "Clark County          129.0\n",
      "San Francisco         133.0\n",
      "San Diego County      140.0\n",
      "Honolulu              141.0\n",
      "Nashville             150.0\n",
      "Hawaii                150.0\n",
      " Santa Cruz           225.0\n",
      "Maui                  226.0\n",
      "Kauai                 236.0\n",
      "Name: price, dtype: float64\n"
     ]
    }
   ],
   "source": [
    "# average prices for each city/county (some are counties, some are cities)\n",
    "# median chosen because there seemed to be some big outliers\n",
    "grouped_df = airbnb_df.groupby(\"neighbourhood_group\")['price'].median().round(2).sort_values(ascending=True)\n",
    "print(grouped_df)"
   ]
  },
  {
   "cell_type": "code",
   "execution_count": 21,
   "id": "eb62eee8-503f-4d05-8b47-b74462eae8d6",
   "metadata": {},
   "outputs": [
    {
     "name": "stdout",
     "output_type": "stream",
     "text": [
      "The most popular amenities are:\n",
      "Wifi: 153989 listings\n",
      "Essentials: 146827 listings\n",
      "Smoke alarm: 144300 listings\n",
      "Kitchen: 139559 listings\n",
      "Hangers: 132614 listings\n",
      "TV: 130571 listings\n",
      "Heating: 126875 listings\n",
      "Hair dryer: 124915 listings\n",
      "Iron: 120742 listings\n",
      "Air conditioning: 120480 listings\n"
     ]
    }
   ],
   "source": [
    "import pandas as pd\n",
    "import re\n",
    "import json\n",
    "from collections import Counter\n",
    "\n",
    "# Load the CSV file with a relative path\n",
    "file_path = 'Resources/air bnb csv with edits.csv'  # Relative path to the CSV file\n",
    "df = pd.read_csv(file_path)\n",
    "\n",
    "# Function to clean and parse the amenities column\n",
    "def clean_and_parse_amenities(amenities_str):\n",
    "    try:\n",
    "        cleaned_str = re.sub(r'(\\w+):', r'\"\\1\":', amenities_str).replace(\"'\", '\"')\n",
    "        return json.loads(cleaned_str)\n",
    "    except (json.JSONDecodeError, ValueError):\n",
    "        return []\n",
    "\n",
    "# Apply the parsing function and flatten the list of amenities\n",
    "all_amenities = [item for sublist in df['amenities'].apply(lambda x: clean_and_parse_amenities(x) if isinstance(x, str) else []) for item in sublist]\n",
    "\n",
    "# Count the frequency of each unique amenity\n",
    "amenities_counter = Counter(all_amenities)\n",
    "\n",
    "# Get the 10 most common amenities\n",
    "most_common_amenities = amenities_counter.most_common(10)\n",
    "\n",
    "# Print the most popular amenities\n",
    "print(\"The most popular amenities are:\")\n",
    "for amenity, count in most_common_amenities:\n",
    "    print(f\"{amenity}: {count} listings\")\n"
   ]
  },
  {
   "cell_type": "code",
   "execution_count": 22,
   "id": "e4f15057-a7d0-4dea-a538-f8dded396ce2",
   "metadata": {},
   "outputs": [
    {
     "data": {
      "image/png": "[encoded data removed]",
      "text/plain": [
       "<Figure size 1200x600 with 1 Axes>"
      ]
     },
     "metadata": {},
     "output_type": "display_data"
    }
   ],
   "source": [
    "import matplotlib.pyplot as plt\n",
    "\n",
    "# Extract amenities and their counts for visualization\n",
    "amenities = [amenity for amenity, count in most_common_amenities]\n",
    "counts = [count for amenity, count in most_common_amenities]\n",
    "\n",
    "# Create a bar chart\n",
    "plt.figure(figsize=(12, 6))\n",
    "plt.bar(amenities, counts, color='skyblue')\n",
    "plt.title('Top 10 Most Popular Amenities')\n",
    "plt.xlabel('Amenities')\n",
    "plt.ylabel('Number of Listings')\n",
    "plt.xticks(rotation=45, ha='right')\n",
    "plt.tight_layout()  # Adjust layout to prevent clipping\n",
    "\n",
    "# Display the chart\n",
    "plt.show()\n"
   ]
  },
  {
   "cell_type": "code",
   "execution_count": null,
   "id": "eddca3de-f636-47a0-a444-f9924c398677",
   "metadata": {},
   "outputs": [],
   "source": []
  }
 ],
 "metadata": {
  "kernelspec": {
   "display_name": "Python 3 (ipykernel)",
   "language": "python",
   "name": "python3"
  },
  "language_info": {
   "codemirror_mode": {
    "name": "ipython",
    "version": 3
   },
   "file_extension": ".py",
   "mimetype": "text/x-python",
   "name": "python",
   "nbconvert_exporter": "python",
   "pygments_lexer": "ipython3",
   "version": "3.10.15"
  }
 },
 "nbformat": 4,
 "nbformat_minor": 5
}
